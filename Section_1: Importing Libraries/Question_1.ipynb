{
 "cells": [
  {
   "cell_type": "code",
   "execution_count": 2,
   "id": "f282c3b2-532e-4e4d-a29b-f1d7ab6b3a4c",
   "metadata": {},
   "outputs": [],
   "source": [
    "# KEEP ONLY THE REQUIRED LIBRARIES; REMOVE OTHERS\n",
    "\n",
    "import pandas as pd \n",
    "import numpy as np \n",
    "\n",
    "import matplotlib.pyplot as plt \n",
    "import seaborn as sns\n",
    "\n",
    "\n",
    "from sklearn.model_selection import train_test_split\n",
    "from sklearn.metrics import roc_curve\n",
    "from sklearn.preprocessing import OneHotEncoder\n",
    "from sklearn.preprocessing import MinMaxScaler\n",
    "from sklearn.linear_model import LogisticRegression\n"
   ]
  },
  {
   "cell_type": "markdown",
   "id": "06a29eef-1cd4-48b4-9b8d-5c9814a6f40e",
   "metadata": {},
   "source": [
    "#Question 1:\n",
    "\n",
    "Why only the required libraries are kept in the code?\n",
    "\n",
    "We only add required libraries in the code as those are the ones that serve a purpose to complete each task efficiently, while other libraries do not. Pandas is used for manipulating data and for analysis to ensure no missing data. NumPy performs mathematical functions that are essential for statistical calculations, such as matrices for finding statistics. Matplotlib is used to create plots for data visualization, with the added support of Seaborn to enhance the aesthetics of plots and make them more informative. Scikit-learn (sklearn) is used to train machine learning models, test their performance, calculate ROC curves, transform categorical variables into \n",
    "numerical values for preprocessing data, and evaluate models. By using these required libraries, it ensures that the code is efficient, optimized, and effective for fulfilling each purpose. It also allows for better readability, and without unnecessary libraries, there is no confusion or misunderstanding in the code."
   ]
  },
  {
   "cell_type": "code",
   "execution_count": null,
   "id": "a7eff314-38b6-4010-806d-9f765c399a8e",
   "metadata": {},
   "outputs": [],
   "source": []
  }
 ],
 "metadata": {
  "kernelspec": {
   "display_name": "Python 3 (ipykernel)",
   "language": "python",
   "name": "python3"
  },
  "language_info": {
   "codemirror_mode": {
    "name": "ipython",
    "version": 3
   },
   "file_extension": ".py",
   "mimetype": "text/x-python",
   "name": "python",
   "nbconvert_exporter": "python",
   "pygments_lexer": "ipython3",
   "version": "3.11.7"
  }
 },
 "nbformat": 4,
 "nbformat_minor": 5
}
