{
 "cells": [
  {
   "cell_type": "markdown",
   "id": "7706027a",
   "metadata": {},
   "source": [
    "## 4) Data Preprocessing\n",
    "\n",
    "Data preprocessing is crucial for preparing raw data for analysis. Converting non-numeric data to numeric forms, such as one-hot encoding, ensures compatibility with machine learning algorithms, which typically require numerical input."
   ]
  },
  {
   "cell_type": "code",
   "execution_count": 23,
   "id": "f6b3b076",
   "metadata": {},
   "outputs": [
    {
     "name": "stdout",
     "output_type": "stream",
     "text": [
      "   Gender    Age    Debt  Married  BankCustomer  Industry_0  Industry_1  \\\n",
      "0     1.0  30.83   0.000      1.0           1.0         0.0         0.0   \n",
      "1     0.0  58.67   4.460      1.0           1.0         0.0         0.0   \n",
      "2     0.0  24.50   0.500      1.0           1.0         0.0         0.0   \n",
      "3     1.0  27.83   1.540      1.0           1.0         0.0         0.0   \n",
      "4     1.0  20.17   5.625      1.0           1.0         0.0         0.0   \n",
      "5     1.0  32.08   4.000      1.0           1.0         1.0         0.0   \n",
      "6     1.0  33.17   1.040      1.0           1.0         0.0         0.0   \n",
      "7     0.0  22.92  11.585      1.0           1.0         0.0         0.0   \n",
      "8     1.0  54.42   0.500      0.0           0.0         0.0         0.0   \n",
      "9     1.0  42.50   4.915      0.0           0.0         0.0         0.0   \n",
      "\n",
      "   Industry_2  Industry_3  Industry_4  ...  PriorDefault  Employed  \\\n",
      "0         0.0         0.0         0.0  ...           1.0       1.0   \n",
      "1         0.0         0.0         0.0  ...           1.0       1.0   \n",
      "2         0.0         0.0         0.0  ...           1.0       0.0   \n",
      "3         0.0         0.0         0.0  ...           1.0       1.0   \n",
      "4         0.0         0.0         0.0  ...           1.0       0.0   \n",
      "5         0.0         0.0         0.0  ...           1.0       0.0   \n",
      "6         0.0         0.0         0.0  ...           1.0       0.0   \n",
      "7         0.0         0.0         0.0  ...           1.0       0.0   \n",
      "8         0.0         0.0         0.0  ...           1.0       0.0   \n",
      "9         0.0         0.0         0.0  ...           1.0       0.0   \n",
      "\n",
      "   CreditScore  DriversLicense  Industry_0  Industry_1  Industry_2  ZipCode  \\\n",
      "0          1.0             0.0         1.0         0.0         0.0    202.0   \n",
      "1          6.0             0.0         1.0         0.0         0.0     43.0   \n",
      "2          0.0             0.0         1.0         0.0         0.0    280.0   \n",
      "3          5.0             1.0         1.0         0.0         0.0    100.0   \n",
      "4          0.0             0.0         0.0         1.0         0.0    120.0   \n",
      "5          0.0             1.0         1.0         0.0         0.0    360.0   \n",
      "6          0.0             1.0         1.0         0.0         0.0    164.0   \n",
      "7          0.0             0.0         1.0         0.0         0.0     80.0   \n",
      "8          0.0             0.0         1.0         0.0         0.0    180.0   \n",
      "9          0.0             1.0         1.0         0.0         0.0     52.0   \n",
      "\n",
      "    Income  Approved  \n",
      "0      0.0       1.0  \n",
      "1    560.0       1.0  \n",
      "2    824.0       1.0  \n",
      "3      3.0       1.0  \n",
      "4      0.0       1.0  \n",
      "5      0.0       1.0  \n",
      "6  31285.0       1.0  \n",
      "7   1349.0       1.0  \n",
      "8    314.0       1.0  \n",
      "9   1442.0       1.0  \n",
      "\n",
      "[10 rows x 35 columns]\n"
     ]
    },
    {
     "name": "stderr",
     "output_type": "stream",
     "text": [
      "/opt/anaconda3/lib/python3.11/site-packages/sklearn/preprocessing/_encoders.py:868: FutureWarning: `sparse` was renamed to `sparse_output` in version 1.2 and will be removed in 1.4. `sparse_output` is ignored unless you leave `sparse` to its default value.\n",
      "  warnings.warn(\n",
      "/opt/anaconda3/lib/python3.11/site-packages/sklearn/preprocessing/_encoders.py:868: FutureWarning: `sparse` was renamed to `sparse_output` in version 1.2 and will be removed in 1.4. `sparse_output` is ignored unless you leave `sparse` to its default value.\n",
      "  warnings.warn(\n",
      "/opt/anaconda3/lib/python3.11/site-packages/sklearn/preprocessing/_encoders.py:868: FutureWarning: `sparse` was renamed to `sparse_output` in version 1.2 and will be removed in 1.4. `sparse_output` is ignored unless you leave `sparse` to its default value.\n",
      "  warnings.warn(\n"
     ]
    }
   ],
   "source": [
    "# CONVERTING ALL NON-NUMERIC DATA TO NUMERIC - USING ONE-HOT ENCODING\n",
    "\n",
    "# INSTANTIATE LABELENCODER\n",
    "ohe = OneHotEncoder(sparse=False, handle_unknown='ignore')\n",
    "\n",
    "# USE LABEL ENCODER le TO TRANSFORM VARIABLES\n",
    "# Creating a new DataFrame for storing transformed data\n",
    "data_transformed = pd.DataFrame()\n",
    "\n",
    "for column in data.columns:\n",
    "    if data[column].dtype == 'object':\n",
    "        # One-hot encode the column if it's of object type (string)\n",
    "        transformed_data = ohe.fit_transform(data[[column]])\n",
    "        ohe_columns = [f\"Industry_{i}\" for i in range(transformed_data.shape[1])]\n",
    "        transformed_df = pd.DataFrame(transformed_data, columns=ohe_columns)\n",
    "        data_transformed = pd.concat([data_transformed, transformed_df], axis=1)\n",
    "    else:\n",
    "        # If not object type, just copy the data to the transformed DataFrame\n",
    "        data_transformed[column] = data[column]\n",
    "\n",
    "data = data_transformed\n",
    "\n",
    "print(data.head(10))"
   ]
  },
  {
   "cell_type": "code",
   "execution_count": null,
   "id": "3931d77c",
   "metadata": {},
   "outputs": [],
   "source": []
  }
 ],
 "metadata": {
  "kernelspec": {
   "display_name": "Python 3 (ipykernel)",
   "language": "python",
   "name": "python3"
  },
  "language_info": {
   "codemirror_mode": {
    "name": "ipython",
    "version": 3
   },
   "file_extension": ".py",
   "mimetype": "text/x-python",
   "name": "python",
   "nbconvert_exporter": "python",
   "pygments_lexer": "ipython3",
   "version": "3.11.7"
  }
 },
 "nbformat": 4,
 "nbformat_minor": 5
}
